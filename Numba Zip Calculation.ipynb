{
 "cells": [
  {
   "cell_type": "markdown",
   "metadata": {},
   "source": [
    "## Finding zip codes and saving for further use"
   ]
  },
  {
   "cell_type": "code",
   "execution_count": 1,
   "metadata": {},
   "outputs": [],
   "source": [
    "import numpy as np\n",
    "import pandas as pd\n",
    "from modules import convert_lat_lon, calc_zip\n",
    "from numba import jit\n",
    "convert_lat_lon = np.vectorize(convert_lat_lon)"
   ]
  },
  {
   "cell_type": "code",
   "execution_count": 2,
   "metadata": {},
   "outputs": [
    {
     "name": "stdout",
     "output_type": "stream",
     "text": [
      "CPU times: user 12.6 s, sys: 899 ms, total: 13.5 s\n",
      "Wall time: 14.7 s\n"
     ]
    }
   ],
   "source": [
    "%%time\n",
    "arrest_data = pd.read_csv('data/arrest-data-from-2010-to-present.csv')\n",
    "crime_data = pd.read_csv('data/crime-data-from-2010-to-present.csv')\n",
    "zip_data = pd.read_csv('data/ziplatlon.csv', dtype={'ZIP': 'str'})\n",
    "zip_data = zip_data[zip_data['ZIP'].apply(lambda x: x[:2]=='90')]"
   ]
  },
  {
   "cell_type": "markdown",
   "metadata": {},
   "source": [
    "### Dealing with location"
   ]
  },
  {
   "cell_type": "code",
   "execution_count": 3,
   "metadata": {},
   "outputs": [
    {
     "data": {
      "text/plain": [
       "0          {'latitude': '33.992', 'human_address': '{\"add...\n",
       "1          {'latitude': '34.1687', 'human_address': '{\"ad...\n",
       "2          {'latitude': '34.1649', 'human_address': '{\"ad...\n",
       "3          {'latitude': '34.2692', 'human_address': '{\"ad...\n",
       "4          {'latitude': '33.9609', 'human_address': '{\"ad...\n",
       "                                 ...                        \n",
       "1276155    {'latitude': '33.7406', 'human_address': '{\"ad...\n",
       "1276156    {'latitude': '34.1101', 'human_address': '{\"ad...\n",
       "1276157    {'latitude': '34.1148', 'human_address': '{\"ad...\n",
       "1276158    {'latitude': '34.0301', 'human_address': '{\"ad...\n",
       "1276159    {'latitude': '34.2215', 'human_address': '{\"ad...\n",
       "Name: Location, Length: 1276160, dtype: object"
      ]
     },
     "execution_count": 3,
     "metadata": {},
     "output_type": "execute_result"
    }
   ],
   "source": [
    "arrest_data['Location']"
   ]
  },
  {
   "cell_type": "code",
   "execution_count": 4,
   "metadata": {},
   "outputs": [],
   "source": [
    "arrest_data['Lat'], arrest_data['Lon'] = convert_lat_lon(arrest_data['Location'])"
   ]
  },
  {
   "cell_type": "code",
   "execution_count": null,
   "metadata": {},
   "outputs": [],
   "source": [
    "%%time\n",
    "arrest_data['ZipCode'] = arrest_data.apply( (lambda x: calc_zip( x['Lat'], x['Lon'], zip_data )), axis=1)"
   ]
  },
  {
   "cell_type": "code",
   "execution_count": null,
   "metadata": {},
   "outputs": [],
   "source": [
    "arrest_data['ZipCode'] = arrest_data['ZipCode'].astype('str')"
   ]
  },
  {
   "cell_type": "code",
   "execution_count": 8,
   "metadata": {},
   "outputs": [],
   "source": [
    "arrest_data.to_csv('arrest_numba_zipcode.csv', index=False)"
   ]
  },
  {
   "cell_type": "code",
   "execution_count": 10,
   "metadata": {},
   "outputs": [],
   "source": [
    "crime_data['Lat'], crime_data['Lon'] = convert_lat_lon(crime_data['Location '])"
   ]
  },
  {
   "cell_type": "code",
   "execution_count": null,
   "metadata": {},
   "outputs": [],
   "source": [
    "%%time\n",
    "crime_data['ZipCode'] = crime_data.apply( (lambda x: calc_zip( x['Lat'], x['Lon'], zip_data )), axis=1)"
   ]
  },
  {
   "cell_type": "code",
   "execution_count": null,
   "metadata": {},
   "outputs": [],
   "source": [
    "crime_data['ZipCode'] = crime_data['ZipCode'].astype('str')"
   ]
  },
  {
   "cell_type": "code",
   "execution_count": null,
   "metadata": {},
   "outputs": [],
   "source": [
    "crime_data.to_csv('crime_numba_zipcode.csv', index=False)"
   ]
  }
 ],
 "metadata": {
  "kernelspec": {
   "display_name": "Python 3",
   "language": "python",
   "name": "python3"
  },
  "language_info": {
   "codemirror_mode": {
    "name": "ipython",
    "version": 3
   },
   "file_extension": ".py",
   "mimetype": "text/x-python",
   "name": "python",
   "nbconvert_exporter": "python",
   "pygments_lexer": "ipython3",
   "version": "3.7.6"
  }
 },
 "nbformat": 4,
 "nbformat_minor": 4
}
