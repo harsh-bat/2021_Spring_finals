{
 "cells": [
  {
   "cell_type": "code",
   "execution_count": 1,
   "metadata": {},
   "outputs": [],
   "source": [
    "import numpy as np\n",
    "import pandas as pd\n",
    "import json\n",
    "from numba import jit"
   ]
  },
  {
   "cell_type": "code",
   "execution_count": 2,
   "metadata": {},
   "outputs": [
    {
     "name": "stdout",
     "output_type": "stream",
     "text": [
      "CPU times: user 12.7 s, sys: 875 ms, total: 13.6 s\n",
      "Wall time: 13.7 s\n"
     ]
    }
   ],
   "source": [
    "%%time\n",
    "arrest_data = pd.read_csv('data/arrest-data-from-2010-to-present.csv')\n",
    "crime_data = pd.read_csv('data/crime-data-from-2010-to-present.csv')\n",
    "zip_data = pd.read_csv('data/ziplatlon.csv', dtype={'ZIP': 'str'})"
   ]
  },
  {
   "cell_type": "markdown",
   "metadata": {},
   "source": [
    "### Dealing with location"
   ]
  },
  {
   "cell_type": "code",
   "execution_count": 3,
   "metadata": {},
   "outputs": [],
   "source": [
    "def convert_lat_lon(x):\n",
    "    return (float(eval(x)['latitude']), float(eval(x)['longitude'])) \n",
    "convert_lat_lon = np.vectorize(convert_lat_lon)"
   ]
  },
  {
   "cell_type": "code",
   "execution_count": 4,
   "metadata": {},
   "outputs": [],
   "source": [
    "arrest_data['Lat'], arrest_data['Lon'] = convert_lat_lon(arrest_data['Location'])"
   ]
  },
  {
   "cell_type": "code",
   "execution_count": 5,
   "metadata": {},
   "outputs": [],
   "source": [
    "zip_data = zip_data[zip_data['ZIP'].apply(lambda x: x[:2]=='90')]"
   ]
  },
  {
   "cell_type": "code",
   "execution_count": 6,
   "metadata": {},
   "outputs": [],
   "source": [
    "@jit(forceobj=True)\n",
    "def calc_zip(olat, olon):\n",
    "    res_zip = ''\n",
    "    res_dis = 1\n",
    "    \n",
    "    k = 0\n",
    "    for k in range(171):\n",
    "        zzip = zip_zip_list[k]\n",
    "        zlat = zip_lat_list[k]\n",
    "        zlon = zip_lon_list[k]\n",
    "        tdis = (zlat-olat)**2 + (zlon-olon)**2\n",
    "        if tdis < res_dis:\n",
    "            res_zip = zzip\n",
    "            res_dis = tdis\n",
    "    \n",
    "    return res_zip"
   ]
  },
  {
   "cell_type": "code",
   "execution_count": 7,
   "metadata": {},
   "outputs": [],
   "source": [
    "zip_lat_list = zip_data['LAT'].to_list()\n",
    "zip_lon_list = zip_data['LNG'].to_list()\n",
    "zip_zip_list = zip_data['ZIP'].to_list()"
   ]
  },
  {
   "cell_type": "code",
   "execution_count": 8,
   "metadata": {},
   "outputs": [
    {
     "data": {
      "text/plain": [
       "0          25\n",
       "1          25\n",
       "2          25\n",
       "3          25\n",
       "4          25\n",
       "           ..\n",
       "1276155    25\n",
       "1276156    25\n",
       "1276157    25\n",
       "1276158    25\n",
       "1276159    25\n",
       "Length: 1276160, dtype: int64"
      ]
     },
     "execution_count": 8,
     "metadata": {},
     "output_type": "execute_result"
    }
   ],
   "source": [
    "arrest_data.apply(lambda x: len(x), axis=1, raw=True)"
   ]
  },
  {
   "cell_type": "code",
   "execution_count": 9,
   "metadata": {},
   "outputs": [
    {
     "name": "stdout",
     "output_type": "stream",
     "text": [
      "CPU times: user 453 ms, sys: 0 ns, total: 453 ms\n",
      "Wall time: 452 ms\n"
     ]
    },
    {
     "data": {
      "text/plain": [
       "0      90001\n",
       "1      90001\n",
       "2      90001\n",
       "3      90001\n",
       "4      90001\n",
       "       ...  \n",
       "495    90001\n",
       "496    90001\n",
       "497    90001\n",
       "498    90001\n",
       "499    90001\n",
       "Length: 500, dtype: object"
      ]
     },
     "execution_count": 9,
     "metadata": {},
     "output_type": "execute_result"
    }
   ],
   "source": [
    "%%time\n",
    "arrest_data.iloc[:500].apply( (lambda x: calc_zip( x[23], x[24] )), raw=True, axis=1)"
   ]
  },
  {
   "cell_type": "code",
   "execution_count": 10,
   "metadata": {},
   "outputs": [
    {
     "data": {
      "text/plain": [
       "''"
      ]
     },
     "execution_count": 10,
     "metadata": {},
     "output_type": "execute_result"
    }
   ],
   "source": [
    "calc_zip(38,-118)"
   ]
  },
  {
   "cell_type": "code",
   "execution_count": null,
   "metadata": {},
   "outputs": [],
   "source": []
  }
 ],
 "metadata": {
  "kernelspec": {
   "display_name": "Python 3",
   "language": "python",
   "name": "python3"
  },
  "language_info": {
   "codemirror_mode": {
    "name": "ipython",
    "version": 3
   },
   "file_extension": ".py",
   "mimetype": "text/x-python",
   "name": "python",
   "nbconvert_exporter": "python",
   "pygments_lexer": "ipython3",
   "version": "3.7.6"
  }
 },
 "nbformat": 4,
 "nbformat_minor": 4
}
